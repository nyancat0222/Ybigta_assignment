{
 "cells": [
  {
   "cell_type": "code",
   "execution_count": 53,
   "metadata": {},
   "outputs": [],
   "source": [
    "import pandas as pd\n",
    "import numpy as np\n",
    "import requests\n",
    "from bs4 import BeautifulSoup\n",
    "import time\n",
    "import urllib.request\n",
    "from selenium.webdriver import Chrome\n",
    "import re\n",
    "from selenium.webdriver.chrome.options import Options\n",
    "from selenium.webdriver.common.keys import Keys\n",
    "import datetime as dt\n",
    "from time import sleep"
   ]
  },
  {
   "cell_type": "code",
   "execution_count": 20,
   "metadata": {},
   "outputs": [],
   "source": [
    "start_url = \"https://www.musinsa.com/app/codimap/lists?style_type=&tag_no=&brand=&display_cnt=60&list_kind=big&sort=comment_cnt&page=1\"\n",
    "path = \"C:\\\\Users\\\\jaykj\\\\Downloads\\\\chromedriver-win64\\\\chromedriver-win64\\\\chromedriver.exe\""
   ]
  },
  {
   "cell_type": "code",
   "execution_count": 21,
   "metadata": {},
   "outputs": [],
   "source": [
    "browser = Chrome(path)\n",
    "browser.get(start_url)"
   ]
  },
  {
   "cell_type": "code",
   "execution_count": 22,
   "metadata": {},
   "outputs": [],
   "source": [
    "cate = browser.find_elements_by_class_name(\"style-list-information__text\")\n",
    "codimap_category = []\n",
    "for i in cate:\n",
    "    codimap_category.append(i.text)"
   ]
  },
  {
   "cell_type": "code",
   "execution_count": 28,
   "metadata": {},
   "outputs": [],
   "source": [
    "title = browser.find_elements_by_class_name(\"style-list-information__title\")\n",
    "codimap_title = []\n",
    "for i in title:\n",
    "    codimap_title.append(i.text)"
   ]
  },
  {
   "cell_type": "code",
   "execution_count": 59,
   "metadata": {},
   "outputs": [],
   "source": [
    "post_info = browser.find_elements_by_class_name(\"post-information__text\")\n",
    "codimap_date = []\n",
    "views = []\n",
    "comment_numbers = []\n",
    "for i in range(len(post_info)):\n",
    "    if (i%3)==0:\n",
    "        codimap_date.append(post_info[i].text)\n",
    "    elif (i%3)==1:\n",
    "        views.append(post_info[i].text.split(\" \")[1])\n",
    "    else:\n",
    "        comment_numbers.append(post_info[i].text[-2:])"
   ]
  },
  {
   "cell_type": "code",
   "execution_count": 62,
   "metadata": {},
   "outputs": [],
   "source": [
    "total_csv = [codimap_category, codimap_title, codimap_date, views, comment_numbers]"
   ]
  },
  {
   "cell_type": "code",
   "execution_count": 66,
   "metadata": {},
   "outputs": [],
   "source": [
    "pd_csv = pd.DataFrame(total_csv).T\n",
    "pd_csv.to_csv('top60.csv',header=['codimap_category', 'codimap_title, codimap_date, views, comment_numbers], index=None)"
   ]
  },
  {
   "cell_type": "code",
   "execution_count": null,
   "metadata": {},
   "outputs": [],
   "source": []
  }
 ],
 "metadata": {
  "kernelspec": {
   "display_name": "Python 3",
   "language": "python",
   "name": "python3"
  },
  "language_info": {
   "codemirror_mode": {
    "name": "ipython",
    "version": 3
   },
   "file_extension": ".py",
   "mimetype": "text/x-python",
   "name": "python",
   "nbconvert_exporter": "python",
   "pygments_lexer": "ipython3",
   "version": "3.7.0"
  }
 },
 "nbformat": 4,
 "nbformat_minor": 2
}
